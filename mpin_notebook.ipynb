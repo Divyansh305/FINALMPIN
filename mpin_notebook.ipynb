{
 "cells": [
  {
   "cell_type": "markdown",
   "metadata": {},
   "source": [
    "# MPIN Strength Checker\n",
    "\n",
    "This notebook contains a complete solution for the MPIN task. It is structured into the following sections:\n",
    "1.  **Imports and Constants**: Defines the lists of commonly used PINs.\n",
    "2.  **Core Logic**: Contains the main function to analyze MPIN strength.\n",
    "3.  **Unit Tests**: A complete test suite to verify the logic.\n",
    "4.  **Runner Functions**: Functions to execute the tests or start an interactive checker.\n",
    "5.  **Execution**: Cells to actually run the tests or the interactive checker."
   ]
  },
  {
   "cell_type": "markdown",
   "metadata": {},
   "source": [
    "### 1. Imports and Constants"
   ]
  },
  {
   "cell_type": "code",
   "execution_count": 1,
   "metadata": {},
   "outputs": [],
   "source": [
    "import datetime\n",
    "import unittest\n",
    "from typing import List, Dict, Set, Optional, Any\n",
    "\n",
    "# A set of commonly used or weak 4-digit PINs\n",
    "COMMONLY_USED_4_DIGIT_PINS: Set[str] = {\n",
    "    \"1234\", \"9876\", \"1111\", \"2222\", \"3333\", \"4444\", \"5555\", \"6666\", \"7777\", \"8888\", \"9999\", \"0000\",\n",
    "    \"1122\", \"1212\", \"2580\", \"1990\", \"1991\", \"1992\", \"1993\", \"1994\", \"1995\", \"1996\", \"1997\", \"1998\", \"1999\",\n",
    "    \"2000\", \"2001\", \"2002\", \"2003\", \"2004\", \"2005\",\n",
    "}\n",
    "\n",
    "# --- Part D: Enhance for a 6-digit PIN ---\n",
    "# A set of commonly used or weak 6-digit PINs\n",
    "COMMONLY_USED_6_DIGIT_PINS: Set[str] = {\n",
    "    \"123456\", \"987654\", \"111111\", \"222222\", \"333333\", \"444444\", \"555555\", \"666666\", \"777777\", \"888888\", \"999999\", \"000000\",\n",
    "    \"123123\", \"112233\",\n",
    "}"
   ]
  },
  {
   "cell_type": "markdown",
   "metadata": {},
   "source": [
    "### 2. Core Logic Functions"
   ]
  },
  {
   "cell_type": "code",
   "execution_count": 2,
   "metadata": {},
   "outputs": [],
   "source": [
    "def _generate_demographic_pins(date_obj: datetime.date, length: int) -> Set[str]:\n",
    "    \"\"\"Generates a set of potential PINs from a given date object.\"\"\"\n",
    "    if not date_obj:\n",
    "        return set()\n",
    "    day, month = f\"{date_obj.day:02d}\", f\"{date_obj.month:02d}\"\n",
    "    year_yy, year_yyyy = f\"{date_obj.year % 100:02d}\", f\"{date_obj.year:04d}\"\n",
    "    pins = set()\n",
    "    if length == 4:\n",
    "        pins.update({\n",
    "            day + month, month + day, year_yyyy, day + year_yy, year_yy + day,\n",
    "            month + year_yy, year_yy + month, day * 2, month * 2, year_yy * 2\n",
    "        })\n",
    "    elif length == 6:\n",
    "        pins.update({\n",
    "            day + month + year_yy, month + day + year_yy,\n",
    "            year_yy + month + day, year_yy + day + month\n",
    "        })\n",
    "    return pins\n",
    "\n",
    "def check_mpin_strength(mpin: str, demographics: Optional[Dict[str, datetime.date]] = None) -> Dict[str, Any]:\n",
    "    \"\"\"Analyzes the strength of a 4 or 6-digit MPIN.\"\"\"\n",
    "    # --- Part D: Handle both 4 and 6-digit PINs ---\n",
    "    if not mpin.isdigit() or len(mpin) not in [4, 6]:\n",
    "        raise ValueError(\"MPIN must be a 4 or 6-digit string.\")\n",
    "    \n",
    "    reasons: Set[str] = set()\n",
    "    pin_length = len(mpin)\n",
    "\n",
    "    # --- Part A: Check if the MPIN is commonly used ---\n",
    "    common_pins = COMMONLY_USED_4_DIGIT_PINS if pin_length == 4 else COMMONLY_USED_6_DIGIT_PINS\n",
    "    if mpin in common_pins:\n",
    "        reasons.add(\"COMMONLY_USED\")\n",
    "\n",
    "    # --- Part B & C: Check against demographics and add reasons ---\n",
    "    if demographics:\n",
    "        demographic_map = {\n",
    "            \"dob_self\": \"DEMOGRAPHIC_DOB_SELF\",\n",
    "            \"dob_spouse\": \"DEMOGRAPHIC_DOB_SPOUSE\",\n",
    "            \"anniversary\": \"DEMOGRAPHIC_ANNIVERSARY\",\n",
    "        }\n",
    "        for key, reason_code in demographic_map.items():\n",
    "            if demographics.get(key):\n",
    "                demographic_pins = _generate_demographic_pins(demographics[key], pin_length)\n",
    "                if mpin in demographic_pins:\n",
    "                    reasons.add(reason_code)\n",
    "\n",
    "    # --- Part B & C: Determine final strength and reasons ---\n",
    "    strength = \"WEAK\" if reasons else \"STRONG\"\n",
    "    return {\"strength\": strength, \"reasons\": sorted(list(reasons))}"
   ]
  },
  {
   "cell_type": "markdown",
   "metadata": {},
   "source": [
    "### 3. Unit Test Class (Part E)"
   ]
  },
  {
   "cell_type": "code",
   "execution_count": 3,
   "metadata": {},
   "outputs": [],
   "source": [
    "# --- Part E: Write code that tests the above written code ---\n",
    "class TestMpinChecker(unittest.TestCase):\n",
    "    @classmethod\n",
    "    def setUpClass(cls):\n",
    "        cls.demographics = {\n",
    "            \"dob_self\": datetime.date(1992, 8, 15),\n",
    "            \"dob_spouse\": datetime.date(1994, 3, 3),\n",
    "            \"anniversary\": datetime.date(2018, 11, 20),\n",
    "        }\n",
    "    \n",
    "    def test_strong_4_digit_pin(self):\n",
    "        self.assertEqual(check_mpin_strength(\"5839\", self.demographics)[\"strength\"], \"STRONG\")\n",
    "    def test_weak_4_digit_repeating(self):\n",
    "        self.assertCountEqual(check_mpin_strength(\"1111\", self.demographics)[\"reasons\"], [\"COMMONLY_USED\", \"DEMOGRAPHIC_ANNIVERSARY\"])\n",
    "    def test_weak_4_digit_sequential(self):\n",
    "        self.assertIn(\"COMMONLY_USED\", check_mpin_strength(\"1234\", self.demographics)[\"reasons\"])\n",
    "    def test_weak_4_digit_from_self_dob_ddmm(self):\n",
    "        self.assertIn(\"DEMOGRAPHIC_DOB_SELF\", check_mpin_strength(\"1508\", self.demographics)[\"reasons\"])\n",
    "    def test_weak_4_digit_from_self_dob_yydd(self):\n",
    "        self.assertIn(\"DEMOGRAPHIC_DOB_SELF\", check_mpin_strength(\"9215\", self.demographics)[\"reasons\"])\n",
    "    def test_weak_4_digit_from_self_dob_yyyy(self):\n",
    "        self.assertCountEqual(check_mpin_strength(\"1992\", self.demographics)[\"reasons\"], [\"COMMONLY_USED\", \"DEMOGRAPHIC_DOB_SELF\"])\n",
    "    def test_weak_4_digit_from_spouse_dob_mmdd(self):\n",
    "        self.assertIn(\"DEMOGRAPHIC_DOB_SPOUSE\", check_mpin_strength(\"0303\", self.demographics)[\"reasons\"])\n",
    "    def test_weak_4_digit_from_spouse_dob_yyyy(self):\n",
    "        self.assertCountEqual(check_mpin_strength(\"1994\", self.demographics)[\"reasons\"], [\"COMMONLY_USED\", \"DEMOGRAPHIC_DOB_SPOUSE\"])\n",
    "    def test_weak_4_digit_from_anniversary_ddmm(self):\n",
    "        self.assertIn(\"DEMOGRAPHIC_ANNIVERSARY\", check_mpin_strength(\"2011\", self.demographics)[\"reasons\"])\n",
    "    def test_weak_4_digit_from_anniversary_yymm(self):\n",
    "        self.assertIn(\"DEMOGRAPHIC_ANNIVERSARY\", check_mpin_strength(\"1811\", self.demographics)[\"reasons\"])\n",
    "    def test_weak_4_digit_common_pair(self):\n",
    "        self.assertIn(\"COMMONLY_USED\", check_mpin_strength(\"1122\", self.demographics)[\"reasons\"])\n",
    "    def test_weak_4_digit_keypad_pattern(self):\n",
    "        self.assertIn(\"COMMONLY_USED\", check_mpin_strength(\"2580\", self.demographics)[\"reasons\"])\n",
    "    def test_strong_6_digit_pin(self):\n",
    "        self.assertEqual(check_mpin_strength(\"742198\", self.demographics)[\"strength\"], \"STRONG\")\n",
    "    def test_weak_6_digit_repeating(self):\n",
    "        self.assertIn(\"COMMONLY_USED\", check_mpin_strength(\"888888\", self.demographics)[\"reasons\"])\n",
    "    def test_weak_6_digit_sequential(self):\n",
    "        self.assertIn(\"COMMONLY_USED\", check_mpin_strength(\"987654\", self.demographics)[\"reasons\"])\n",
    "    def test_weak_6_digit_repeating_pattern(self):\n",
    "        self.assertIn(\"COMMONLY_USED\", check_mpin_strength(\"123123\", self.demographics)[\"reasons\"])\n",
    "    def test_weak_6_digit_from_self_dob_ddmmyy(self):\n",
    "        self.assertIn(\"DEMOGRAPHIC_DOB_SELF\", check_mpin_strength(\"150892\", self.demographics)[\"reasons\"])\n",
    "    def test_weak_6_digit_from_self_dob_yymmdd(self):\n",
    "        self.assertIn(\"DEMOGRAPHIC_DOB_SELF\", check_mpin_strength(\"920815\", self.demographics)[\"reasons\"])\n",
    "    def test_weak_6_digit_from_spouse_dob_mmddyy(self):\n",
    "        self.assertIn(\"DEMOGRAPHIC_DOB_SPOUSE\", check_mpin_strength(\"030394\", self.demographics)[\"reasons\"])\n",
    "    def test_weak_6_digit_from_anniversary_ddmmyy(self):\n",
    "        self.assertIn(\"DEMOGRAPHIC_ANNIVERSARY\", check_mpin_strength(\"201118\", self.demographics)[\"reasons\"])\n",
    "    def test_no_demographics_provided_strong(self):\n",
    "        self.assertEqual(check_mpin_strength(\"1508\")[\"strength\"], \"STRONG\")\n",
    "    def test_no_demographics_provided_weak_common(self):\n",
    "        self.assertIn(\"COMMONLY_USED\", check_mpin_strength(\"1111\")[\"reasons\"])\n",
    "    def test_invalid_pin_length(self):\n",
    "        with self.assertRaises(ValueError): check_mpin_strength(\"123\")\n",
    "        with self.assertRaises(ValueError): check_mpin_strength(\"12345\")\n",
    "        with self.assertRaises(ValueError): check_mpin_strength(\"abcdef\")"
   ]
  },
  {
   "cell_type": "markdown",
   "metadata": {},
   "source": [
    "### 4. Runner Functions"
   ]
  },
  {
   "cell_type": "code",
   "execution_count": 4,
   "metadata": {},
   "outputs": [],
   "source": [
    "def run_all_tests():\n",
    "    \"\"\"Runs the full unittest suite.\"\"\"\n",
    "    print(\"--- Running Unit Test Suite ---\")\n",
    "    suite = unittest.TestSuite()\n",
    "    loader = unittest.TestLoader()\n",
    "    suite.addTest(loader.loadTestsFromTestCase(TestMpinChecker))\n",
    "    runner = unittest.TextTestRunner(verbosity=2)\n",
    "    result = runner.run(suite)\n",
    "    if result.wasSuccessful():\n",
    "        print(\"\\n✅ All tests passed successfully!\")\n",
    "    else:\n",
    "        print(\"\\n❌ Some tests failed.\")\n",
    "\n",
    "def run_interactive_checker():\n",
    "    \"\"\"Runs an interactive loop in the console to check custom MPINs.\"\"\"\n",
    "    def get_date_from_user(prompt: str) -> Optional[datetime.date]:\n",
    "        while True:\n",
    "            date_str = input(prompt)\n",
    "            if not date_str: return None\n",
    "            try:\n",
    "                return datetime.datetime.strptime(date_str, \"%Y-%m-%d\").date()\n",
    "            except ValueError:\n",
    "                print(\"Invalid format. Please use YYYY-MM-DD or press Enter to skip.\")\n",
    "\n",
    "    print(\"--- Interactive MPIN Strength Checker ---\")\n",
    "    print(\"Enter 'quit' at any time to exit.\")\n",
    "    \n",
    "    while True:\n",
    "        mpin = input(\"\\nEnter the 4 or 6-digit MPIN to check: \").strip()\n",
    "        if mpin.lower() == 'quit': break\n",
    "        \n",
    "        if not mpin.isdigit() or len(mpin) not in [4, 6]:\n",
    "            print(\"Invalid input. Please enter a 4 or 6-digit number.\")\n",
    "            continue\n",
    "            \n",
    "        print(\"\\nPlease provide dates (or press Enter to skip).\")\n",
    "        user_demographics = {\n",
    "            \"dob_self\": get_date_from_user(\"Your DOB (YYYY-MM-DD): \"),\n",
    "            \"dob_spouse\": get_date_from_user(\"Spouse's DOB (YYYY-MM-DD): \"),\n",
    "            \"anniversary\": get_date_from_user(\"Anniversary (YYYY-MM-DD): \"),\n",
    "        }\n",
    "        \n",
    "        result = check_mpin_strength(mpin, user_demographics)\n",
    "        print(\"\\n--- Analysis Result ---\")\n",
    "        print(f\"  PIN: {mpin}, Strength: {result['strength']}\")\n",
    "        if result['reasons']:\n",
    "            print(f\"  Reasons: {', '.join(result['reasons'])}\")\n",
    "        print(\"-----------------------\")"
   ]
  },
  {
   "cell_type": "markdown",
   "metadata": {},
   "source": [
    "### 5. Execute Tests\n",
    "\n",
    "Run the following cell to execute all the unit tests."
   ]
  },
  {
   "cell_type": "code",
   "execution_count": 5,
   "metadata": {
    "tags": []
   },
   "outputs": [
    {
     "name": "stderr",
     "output_type": "stream",
     "text": [
      "test_invalid_pin_length (__main__.TestMpinChecker.test_invalid_pin_length) ... ok\n",
      "test_no_demographics_provided_strong (__main__.TestMpinChecker.test_no_demographics_provided_strong) ... ok\n",
      "test_no_demographics_provided_weak_common (__main__.TestMpinChecker.test_no_demographics_provided_weak_common) ... ok\n",
      "test_strong_4_digit_pin (__main__.TestMpinChecker.test_strong_4_digit_pin) ... ok\n",
      "test_strong_6_digit_pin (__main__.TestMpinChecker.test_strong_6_digit_pin) ... ok\n",
      "test_weak_4_digit_common_pair (__main__.TestMpinChecker.test_weak_4_digit_common_pair) ... ok\n",
      "test_weak_4_digit_from_anniversary_ddmm (__main__.TestMpinChecker.test_weak_4_digit_from_anniversary_ddmm) ... ok\n",
      "test_weak_4_digit_from_anniversary_yymm (__main__.TestMpinChecker.test_weak_4_digit_from_anniversary_yymm) ... ok\n",
      "test_weak_4_digit_from_self_dob_ddmm (__main__.TestMpinChecker.test_weak_4_digit_from_self_dob_ddmm) ... ok\n",
      "test_weak_4_digit_from_self_dob_yydd (__main__.TestMpinChecker.test_weak_4_digit_from_self_dob_yydd) ... ok\n",
      "test_weak_4_digit_from_self_dob_yyyy (__main__.TestMpinChecker.test_weak_4_digit_from_self_dob_yyyy) ... ok\n",
      "test_weak_4_digit_from_spouse_dob_mmdd (__main__.TestMpinChecker.test_weak_4_digit_from_spouse_dob_mmdd) ... ok\n",
      "test_weak_4_digit_from_spouse_dob_yyyy (__main__.TestMpinChecker.test_weak_4_digit_from_spouse_dob_yyyy) ... ok\n",
      "test_weak_4_digit_keypad_pattern (__main__.TestMpinChecker.test_weak_4_digit_keypad_pattern) ... "
     ]
    },
    {
     "name": "stdout",
     "output_type": "stream",
     "text": [
      "--- Running Unit Test Suite ---\n"
     ]
    },
    {
     "name": "stderr",
     "output_type": "stream",
     "text": [
      "ok\n",
      "test_weak_4_digit_repeating (__main__.TestMpinChecker.test_weak_4_digit_repeating) ... ok\n",
      "test_weak_4_digit_sequential (__main__.TestMpinChecker.test_weak_4_digit_sequential) ... ok\n",
      "test_weak_6_digit_from_anniversary_ddmmyy (__main__.TestMpinChecker.test_weak_6_digit_from_anniversary_ddmmyy) ... ok\n",
      "test_weak_6_digit_from_self_dob_ddmmyy (__main__.TestMpinChecker.test_weak_6_digit_from_self_dob_ddmmyy) ... ok\n",
      "test_weak_6_digit_from_self_dob_yymmdd (__main__.TestMpinChecker.test_weak_6_digit_from_self_dob_yymmdd) ... ok\n",
      "test_weak_6_digit_from_spouse_dob_mmddyy (__main__.TestMpinChecker.test_weak_6_digit_from_spouse_dob_mmddyy) ... ok\n",
      "test_weak_6_digit_repeating (__main__.TestMpinChecker.test_weak_6_digit_repeating) ... ok\n",
      "test_weak_6_digit_repeating_pattern (__main__.TestMpinChecker.test_weak_6_digit_repeating_pattern) ... ok\n",
      "test_weak_6_digit_sequential (__main__.TestMpinChecker.test_weak_6_digit_sequential) ... ok\n",
      "\n",
      "----------------------------------------------------------------------\n",
      "Ran 23 tests in 0.036s\n",
      "\n",
      "OK\n"
     ]
    },
    {
     "name": "stdout",
     "output_type": "stream",
     "text": [
      "\n",
      "✅ All tests passed successfully!\n"
     ]
    }
   ],
   "source": [
    "run_all_tests()"
   ]
  },
  {
   "cell_type": "markdown",
   "metadata": {},
   "source": [
    "### 6. Run Interactive Checker\n",
    "\n",
    "Run the following cell to start the interactive checker and test custom inputs."
   ]
  },
  {
   "cell_type": "code",
   "execution_count": 6,
   "metadata": {},
   "outputs": [
    {
     "name": "stdout",
     "output_type": "stream",
     "text": [
      "--- Interactive MPIN Strength Checker ---\n",
      "Enter 'quit' at any time to exit.\n"
     ]
    }
   ],
   "source": [
    "run_interactive_checker()"
   ]
  }
 ],
 "metadata": {
  "kernelspec": {
   "display_name": "Python 3",
   "language": "python",
   "name": "python3"
  },
  "language_info": {
   "codemirror_mode": {
    "name": "ipython",
    "version": 3
   },
   "file_extension": ".py",
   "mimetype": "text/x-python",
   "name": "python",
   "nbconvert_exporter": "python",
   "pygments_lexer": "ipython3",
   "version": "3.12.5"
  }
 },
 "nbformat": 4,
 "nbformat_minor": 4
}
